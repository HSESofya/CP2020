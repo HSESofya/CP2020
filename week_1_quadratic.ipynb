{
 "cells": [
  {
   "cell_type": "markdown",
   "metadata": {},
   "source": [
    "# Решить квадратное уравнение $x^2 + bx + c = 0$"
   ]
  },
  {
   "cell_type": "markdown",
   "metadata": {},
   "source": [
    "Функция $\\operatorname{solve\\_quad}$ получает на вход $b$ и $c$, которые являются коэффициентами квадратного трехчлена $x^2 + bx + c$, и возвращает пару корней. Функция возвращает два корня, даже если они совпали.\n"
   ]
  },
  {
   "cell_type": "code",
   "execution_count": 42,
   "metadata": {},
   "outputs": [],
   "source": [
    "def solve_quad(b, c):\n",
    "    \"\"\"Solve a quadratic equation, x**2 + bx + c = 0.\n",
    "    \n",
    "    Parameters\n",
    "    ----------\n",
    "    b, c : float\n",
    "       Coefficients\n",
    "       \n",
    "    Returns\n",
    "    -------\n",
    "    x1, x2 : float or complex\n",
    "       Roots.\n",
    "    \"\"\"\n",
    "    # ... enter your code here ...\n",
    "    import cmath\n",
    "    import numpy as np\n",
    "    #используем следующий алгоритм:\n",
    "    #находим больший корень(формула сделана так, что не происходит вычитания маленького числа из большого с ошибкой)\n",
    "    #находим второй корень по теореме Виета, делением коэффициента c на первый корень\n",
    "\n",
    "    if b > 0:\n",
    "        x_1 = -(b + np.abs(b) * cmath.sqrt(1 - 4*c / (b**2))) * 0.5   \n",
    "        x_2 = -2*c/(b + np.abs(b) * cmath.sqrt(1 - 4*c / (b**2)))   \n",
    "    else:\n",
    "        x_1 = (-b + np.abs(b) * cmath.sqrt(1 - 4*c / (b**2))) * 0.5\n",
    "        x_2 = 2*c/(-b + np.abs(b) * cmath.sqrt(1 - 4*c / (b**2)))\n",
    "    return(x_1,x_2)\n"
   ]
  },
  {
   "cell_type": "markdown",
   "metadata": {},
   "source": [
    "Тестируем функцию на следующем наборе параметров:"
   ]
  },
  {
   "cell_type": "code",
   "execution_count": 43,
   "metadata": {},
   "outputs": [],
   "source": [
    "from numpy import allclose"
   ]
  },
  {
   "cell_type": "code",
   "execution_count": 44,
   "metadata": {},
   "outputs": [],
   "source": [
    "variants = [{'b': 4.0, 'c': 3.0},\n",
    "            {'b': 2.0, 'c': 1.0},\n",
    "            {'b': 0.5, 'c': 4.0},\n",
    "            {'b': 1e10, 'c': 3.0},\n",
    "            {'b': -1e10, 'c': 4.0},]"
   ]
  },
  {
   "cell_type": "code",
   "execution_count": 45,
   "metadata": {},
   "outputs": [
    {
     "name": "stdout",
     "output_type": "stream",
     "text": [
      "True\n",
      "True\n",
      "True\n",
      "True\n",
      "True\n"
     ]
    }
   ],
   "source": [
    "for var in variants:\n",
    "    x1, x2 = solve_quad(**var)\n",
    "    print(allclose(x1*x2, var['c']))"
   ]
  }
 ],
 "metadata": {
  "kernelspec": {
   "display_name": "Python 3",
   "language": "python",
   "name": "python3"
  },
  "language_info": {
   "codemirror_mode": {
    "name": "ipython",
    "version": 3
   },
   "file_extension": ".py",
   "mimetype": "text/x-python",
   "name": "python",
   "nbconvert_exporter": "python",
   "pygments_lexer": "ipython3",
   "version": "3.7.3"
  }
 },
 "nbformat": 4,
 "nbformat_minor": 2
}
