{
 "cells": [
  {
   "cell_type": "markdown",
   "metadata": {},
   "source": [
    "Сосчитать интегралы вида:\n",
    "$$I_n = \\int_{0}^{1} x^n e^{1-x} dx$$\n",
    "Интегрируя по частям, получаем рекуррентное соотношение\n",
    "$$I_n = nI_{n-1}-1$$\n",
    "начальное условие\n",
    "$$I_0 = e-1$$\n",
    "Сосчитаем эти интегралы символьно с помощью sympy:"
   ]
  },
  {
   "cell_type": "code",
   "execution_count": 2,
   "metadata": {},
   "outputs": [],
   "source": [
    "import sympy\n",
    "x = sympy.Symbol('x')\n",
    "N = 25\n",
    "exact = [float(sympy.integrate(x**n * sympy.exp(1 - x), (x, 0, 1))) for n in range(N)]"
   ]
  },
  {
   "cell_type": "markdown",
   "metadata": {},
   "source": [
    "Используя рекуррентное соотношение, считаем интегралы от n=0 до n=24 включительно:"
   ]
  },
  {
   "cell_type": "markdown",
   "metadata": {},
   "source": [
    "Код ниже считает значения первых 25 интегралов рекурсией вверх от n = 1"
   ]
  },
  {
   "cell_type": "code",
   "execution_count": 14,
   "metadata": {},
   "outputs": [
    {
     "name": "stdout",
     "output_type": "stream",
     "text": [
      "[ 1.71828183e+00  7.18281828e-01  4.36563657e-01  3.09690971e-01\n",
      "  2.38763883e-01  1.93819415e-01  1.62916491e-01  1.40415434e-01\n",
      "  1.23323469e-01  1.09911218e-01  9.91121828e-02  9.02340111e-02\n",
      "  8.28081330e-02  7.65057285e-02  7.10801993e-02  6.62029896e-02\n",
      "  5.92478342e-02  7.21318116e-03 -8.70162739e-01 -1.75330920e+01\n",
      " -3.51661841e+02 -7.38589866e+03 -1.62490770e+05 -3.73728872e+06\n",
      " -8.96949303e+07]\n"
     ]
    }
   ],
   "source": [
    "import numpy as np\n",
    "def upwards_recursion(n):\n",
    "    \"\"\"Compute the integrals using the upwards recursion.\"\"\"\n",
    "    integrals = np.array([np.e - 1])\n",
    "    for x in range(1,n):\n",
    "        integrals = np.append(integrals, x * integrals[-1] - 1)\n",
    "    return integrals\n",
    "    \n",
    " \n",
    "print(upwards_recursion(25))"
   ]
  },
  {
   "cell_type": "markdown",
   "metadata": {},
   "source": [
    "Сравниваем полученные результаты с точными значениями:"
   ]
  },
  {
   "cell_type": "code",
   "execution_count": 28,
   "metadata": {},
   "outputs": [
    {
     "name": "stdout",
     "output_type": "stream",
     "text": [
      "1.718281828459045 1.7182818284590453\n",
      "0.7182818284590451 0.7182818284590452\n",
      "0.4365636569180902 0.43656365691809046\n",
      "0.30969097075427054 0.30969097075427143\n",
      "0.23876388301708218 0.23876388301708565\n",
      "0.1938194150854109 0.19381941508542824\n",
      "0.16291649051246537 0.16291649051256946\n",
      "0.1404154335872576 0.14041543358798622\n",
      "0.12332346869806088 0.12332346870388973\n",
      "0.1099112182825479 0.10991121833500754\n",
      "0.09911218282547907 0.0991121833500754\n",
      "0.09023401108026974 0.09023401685082952\n",
      "0.08280813296323686 0.08280820220995427\n",
      "0.07650572852207915 0.07650662872940558\n",
      "0.07108019930910814 0.07109280221167809\n",
      "0.06620298963662208 0.0663920331751714\n",
      "0.05924783418595325 0.06227253080274239\n",
      "0.007213181161205284 0.05863302364662064\n",
      "-0.8701627390983049 0.05539442563917152\n",
      "-17.533092042867793 0.052494087144258815\n",
      "-351.66184085735586 0.049881742885176245\n",
      "-7385.898658004473 0.04751660058870116\n",
      "-162490.7704760984 0.04536521295142559\n",
      "-3737288.7209502636 0.04339989788278872\n",
      "-89694930.30280632 0.041597549186929206\n"
     ]
    },
    {
     "ename": "AssertionError",
     "evalue": "\nNot equal to tolerance rtol=1e-07, atol=0\n\nMismatch: 52%\nMax absolute difference: 89694930.34440386\nMax relative difference: 2.15625517e+09\n x: array([ 1.718282e+00,  7.182818e-01,  4.365637e-01,  3.096910e-01,\n        2.387639e-01,  1.938194e-01,  1.629165e-01,  1.404154e-01,\n        1.233235e-01,  1.099112e-01,  9.911218e-02,  9.023401e-02,...\n y: array([1.718282, 0.718282, 0.436564, 0.309691, 0.238764, 0.193819,\n       0.162916, 0.140415, 0.123323, 0.109911, 0.099112, 0.090234,\n       0.082808, 0.076507, 0.071093, 0.066392, 0.062273, 0.058633,...",
     "output_type": "error",
     "traceback": [
      "\u001b[1;31m---------------------------------------------------------------------------\u001b[0m",
      "\u001b[1;31mAssertionError\u001b[0m                            Traceback (most recent call last)",
      "\u001b[1;32m<ipython-input-28-49667893b092>\u001b[0m in \u001b[0;36m<module>\u001b[1;34m\u001b[0m\n\u001b[0;32m      4\u001b[0m \u001b[1;33m\u001b[0m\u001b[0m\n\u001b[0;32m      5\u001b[0m \u001b[1;32mfrom\u001b[0m \u001b[0mnumpy\u001b[0m\u001b[1;33m.\u001b[0m\u001b[0mtesting\u001b[0m \u001b[1;32mimport\u001b[0m \u001b[0massert_allclose\u001b[0m\u001b[1;33m\u001b[0m\u001b[1;33m\u001b[0m\u001b[0m\n\u001b[1;32m----> 6\u001b[1;33m \u001b[0massert_allclose\u001b[0m\u001b[1;33m(\u001b[0m\u001b[0mvalues1\u001b[0m\u001b[1;33m,\u001b[0m \u001b[0mexact\u001b[0m\u001b[1;33m)\u001b[0m\u001b[1;33m\u001b[0m\u001b[1;33m\u001b[0m\u001b[0m\n\u001b[0m",
      "\u001b[1;32m~\\Anaconda3\\lib\\site-packages\\numpy\\testing\\_private\\utils.py\u001b[0m in \u001b[0;36massert_allclose\u001b[1;34m(actual, desired, rtol, atol, equal_nan, err_msg, verbose)\u001b[0m\n\u001b[0;32m   1491\u001b[0m     \u001b[0mheader\u001b[0m \u001b[1;33m=\u001b[0m \u001b[1;34m'Not equal to tolerance rtol=%g, atol=%g'\u001b[0m \u001b[1;33m%\u001b[0m \u001b[1;33m(\u001b[0m\u001b[0mrtol\u001b[0m\u001b[1;33m,\u001b[0m \u001b[0matol\u001b[0m\u001b[1;33m)\u001b[0m\u001b[1;33m\u001b[0m\u001b[1;33m\u001b[0m\u001b[0m\n\u001b[0;32m   1492\u001b[0m     assert_array_compare(compare, actual, desired, err_msg=str(err_msg),\n\u001b[1;32m-> 1493\u001b[1;33m                          verbose=verbose, header=header, equal_nan=equal_nan)\n\u001b[0m\u001b[0;32m   1494\u001b[0m \u001b[1;33m\u001b[0m\u001b[0m\n\u001b[0;32m   1495\u001b[0m \u001b[1;33m\u001b[0m\u001b[0m\n",
      "\u001b[1;32m~\\Anaconda3\\lib\\site-packages\\numpy\\testing\\_private\\utils.py\u001b[0m in \u001b[0;36massert_array_compare\u001b[1;34m(comparison, x, y, err_msg, verbose, header, precision, equal_nan, equal_inf)\u001b[0m\n\u001b[0;32m    817\u001b[0m                                 \u001b[0mverbose\u001b[0m\u001b[1;33m=\u001b[0m\u001b[0mverbose\u001b[0m\u001b[1;33m,\u001b[0m \u001b[0mheader\u001b[0m\u001b[1;33m=\u001b[0m\u001b[0mheader\u001b[0m\u001b[1;33m,\u001b[0m\u001b[1;33m\u001b[0m\u001b[1;33m\u001b[0m\u001b[0m\n\u001b[0;32m    818\u001b[0m                                 names=('x', 'y'), precision=precision)\n\u001b[1;32m--> 819\u001b[1;33m             \u001b[1;32mraise\u001b[0m \u001b[0mAssertionError\u001b[0m\u001b[1;33m(\u001b[0m\u001b[0mmsg\u001b[0m\u001b[1;33m)\u001b[0m\u001b[1;33m\u001b[0m\u001b[1;33m\u001b[0m\u001b[0m\n\u001b[0m\u001b[0;32m    820\u001b[0m     \u001b[1;32mexcept\u001b[0m \u001b[0mValueError\u001b[0m\u001b[1;33m:\u001b[0m\u001b[1;33m\u001b[0m\u001b[1;33m\u001b[0m\u001b[0m\n\u001b[0;32m    821\u001b[0m         \u001b[1;32mimport\u001b[0m \u001b[0mtraceback\u001b[0m\u001b[1;33m\u001b[0m\u001b[1;33m\u001b[0m\u001b[0m\n",
      "\u001b[1;31mAssertionError\u001b[0m: \nNot equal to tolerance rtol=1e-07, atol=0\n\nMismatch: 52%\nMax absolute difference: 89694930.34440386\nMax relative difference: 2.15625517e+09\n x: array([ 1.718282e+00,  7.182818e-01,  4.365637e-01,  3.096910e-01,\n        2.387639e-01,  1.938194e-01,  1.629165e-01,  1.404154e-01,\n        1.233235e-01,  1.099112e-01,  9.911218e-02,  9.023401e-02,...\n y: array([1.718282, 0.718282, 0.436564, 0.309691, 0.238764, 0.193819,\n       0.162916, 0.140415, 0.123323, 0.109911, 0.099112, 0.090234,\n       0.082808, 0.076507, 0.071093, 0.066392, 0.062273, 0.058633,..."
     ]
    }
   ],
   "source": [
    "values1 = upwards_recursion(25)\n",
    "for value, exact_value in zip(values1, exact):\n",
    "    print(value, exact_value)\n",
    "\n",
    "from numpy.testing import assert_allclose\n",
    "assert_allclose(values1, exact)"
   ]
  },
  {
   "cell_type": "markdown",
   "metadata": {},
   "source": [
    "Assertion провален, так как есть ошибка, растущая пропорционально факториалу"
   ]
  },
  {
   "cell_type": "markdown",
   "metadata": {},
   "source": [
    "Используем рекурсию в обратную сторону. Код ниже считает значения 25 интегралов от 0 до 24"
   ]
  },
  {
   "cell_type": "code",
   "execution_count": 20,
   "metadata": {},
   "outputs": [],
   "source": [
    "def downwards_recursion(n):\n",
    "    last_int = 0\n",
    "    integrals = np.array([last_int])\n",
    "    for x in range(1,n+1):\n",
    "        integrals = np.append(integrals, (integrals[-1] + 1)/(n - x + 1))\n",
    "    integrals  = np.flip(integrals[1:])\n",
    "    return integrals"
   ]
  },
  {
   "cell_type": "markdown",
   "metadata": {},
   "source": [
    "Снова сравниваем результаты с точными ответами. Делаем выводы."
   ]
  },
  {
   "cell_type": "code",
   "execution_count": 27,
   "metadata": {},
   "outputs": [
    {
     "name": "stdout",
     "output_type": "stream",
     "text": [
      "1.718281828459045 1.7182818284590453\n",
      "0.7182818284590452 0.7182818284590452\n",
      "0.43656365691809046 0.43656365691809046\n",
      "0.30969097075427143 0.30969097075427143\n",
      "0.23876388301708565 0.23876388301708565\n",
      "0.19381941508542824 0.19381941508542824\n",
      "0.16291649051256946 0.16291649051256946\n",
      "0.14041543358798622 0.14041543358798622\n",
      "0.12332346870388972 0.12332346870388973\n",
      "0.10991121833500754 0.10991121833500754\n",
      "0.09911218335007542 0.0991121833500754\n",
      "0.09023401685082953 0.09023401685082952\n",
      "0.08280820220995427 0.08280820220995427\n",
      "0.07650662872940557 0.07650662872940558\n",
      "0.07109280221167787 0.07109280221167809\n",
      "0.06639203317516804 0.0663920331751714\n",
      "0.06227253080268852 0.06227253080274239\n",
      "0.05863302364570481 0.05863302364662064\n",
      "0.05539442562268649 0.05539442563917152\n",
      "0.052494086831043354 0.052494087144258815\n",
      "0.049881736620867055 0.049881742885176245\n",
      "0.047516469038208164 0.04751660058870116\n",
      "0.045362318840579716 0.04536521295142559\n",
      "0.043333333333333335 0.04339989788278872\n",
      "0.04 0.041597549186929206\n"
     ]
    }
   ],
   "source": [
    "values2 = downwards_recursion(25)\n",
    "for value, exact_value in zip(values2, exact):\n",
    "    print(value, exact_value)\n",
    "\n",
    "from numpy.testing import assert_allclose\n",
    "assert_allclose(values2, exact, atol=1e-2)"
   ]
  },
  {
   "cell_type": "markdown",
   "metadata": {},
   "source": [
    "Нулевую погрешность невозможно получить, так как мы всегда получаем ошибку при работе с float. Для прохождения теста параметр, отвечающий за абсолютную погрешность, взяли 10e-2."
   ]
  },
  {
   "cell_type": "code",
   "execution_count": null,
   "metadata": {},
   "outputs": [],
   "source": []
  }
 ],
 "metadata": {
  "kernelspec": {
   "display_name": "Python 3",
   "language": "python",
   "name": "python3"
  },
  "language_info": {
   "codemirror_mode": {
    "name": "ipython",
    "version": 3
   },
   "file_extension": ".py",
   "mimetype": "text/x-python",
   "name": "python",
   "nbconvert_exporter": "python",
   "pygments_lexer": "ipython3",
   "version": "3.7.3"
  }
 },
 "nbformat": 4,
 "nbformat_minor": 2
}
